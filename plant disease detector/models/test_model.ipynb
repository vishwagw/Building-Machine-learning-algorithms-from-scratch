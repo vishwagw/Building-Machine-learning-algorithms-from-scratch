{
 "cells": [
  {
   "cell_type": "markdown",
   "metadata": {},
   "source": [
    "We are going to create the test ML model in ths notbook."
   ]
  },
  {
   "cell_type": "code",
   "execution_count": 1,
   "metadata": {},
   "outputs": [],
   "source": [
    "#libraries\n",
    "import cv2\n",
    "import numpy as np\n",
    "import pandas as pd\n",
    "import matplotlib.pyplot as plt\n",
    "from matplotlib.colors import hsv_to_rgb\n",
    "from sklearn.cluster import KMeans\n",
    "from sklearn.preprocessing import MinMaxScaler\n",
    "from scipy import ndimage"
   ]
  },
  {
   "cell_type": "code",
   "execution_count": null,
   "metadata": {},
   "outputs": [],
   "source": [
    "#loading the image\n",
    "img = cv2.imread('---.jpg')\n",
    "\n",
    "#visualizing-\n",
    "plt.imshow(img)\n",
    "plt.show()"
   ]
  },
  {
   "cell_type": "code",
   "execution_count": null,
   "metadata": {},
   "outputs": [],
   "source": [
    "#analysing color\n",
    "img = cv2.cvtColor(img, cv2.COLOR_BGR2RGB)\n",
    "\n",
    "#visualizing\n",
    "plt.imshow(img)\n",
    "plt.show()"
   ]
  },
  {
   "cell_type": "code",
   "execution_count": null,
   "metadata": {},
   "outputs": [],
   "source": [
    "#furter analysing with hsv\n",
    "hsv_img = cv2.cvtColor(img, cv2.COLOR_RGB2HSV)\n",
    "\n",
    "#visualizing\n",
    "plt.imshow(hsv_img)\n",
    "plt.show()"
   ]
  },
  {
   "cell_type": "code",
   "execution_count": null,
   "metadata": {},
   "outputs": [],
   "source": [
    "#analying the green-\n",
    "lower_green = np.array([25,0,20])\n",
    "upper_green = np.array([100,255,255])\n",
    "mask = cv2.inRange(hsv_img, lower_green, upper_green)\n",
    "result = cv2.bitwise_and(img, img, mask=mask)\n",
    "plt.subplot(1, 2, 1)\n",
    "plt.imshow(mask, cmap=\"gray\")\n",
    "plt.subplot(1, 2, 2)\n",
    "plt.imshow(result)\n",
    "plt.show()"
   ]
  },
  {
   "cell_type": "code",
   "execution_count": null,
   "metadata": {},
   "outputs": [],
   "source": [
    "lower_brown = np.array([10,0,10])\n",
    "upper_brown = np.array([30,255,255])\n",
    "disease_mask = cv2.inRange(hsv_img, lower_brown, upper_brown)\n",
    "disease_results = cv2.bitwise_and(img, img, mask=disease_mask)\n",
    "plt.subplot(1, 2, 1)\n",
    "plt.imshow(disease_mask, cmap='gray')\n",
    "plt.subplot(1, 2, 2)\n",
    "plt.imshow(disease_mask)\n",
    "plt.show()"
   ]
  },
  {
   "cell_type": "code",
   "execution_count": null,
   "metadata": {},
   "outputs": [],
   "source": [
    "final_mask = mask + disease_mask\n",
    "final_result = cv2.bitwise_and(img, img, mask=final_mask)\n",
    "plt.figure(figsize=(15, 15))\n",
    "plt.subplot(1, 2, 1)\n",
    "plt.imshow(final_mask, cmap='gary')\n",
    "plt.subplot(1, 2, 2)\n",
    "plt.imshow(final_result)\n",
    "plt.show()"
   ]
  },
  {
   "cell_type": "markdown",
   "metadata": {},
   "source": [
    "descriptor process"
   ]
  },
  {
   "cell_type": "code",
   "execution_count": null,
   "metadata": {},
   "outputs": [],
   "source": [
    "surf = cv2.xfeatures2d.SURF_create(400)\n",
    "# find keypoints and description directly\n",
    "kp, des = surf.detectAndCompute(final_result, None)\n",
    "len(kp)\n",
    "print(kp)\n",
    "print(des)"
   ]
  },
  {
   "cell_type": "code",
   "execution_count": null,
   "metadata": {},
   "outputs": [],
   "source": [
    "new_img = cv2.drawKeypoints(final_result, kp, None, (255, 0, 0), 4)\n",
    "\n",
    "#visual output:\n",
    "plt.imshow(final_result)"
   ]
  },
  {
   "cell_type": "markdown",
   "metadata": {},
   "source": [
    "global feature :"
   ]
  },
  {
   "cell_type": "code",
   "execution_count": null,
   "metadata": {},
   "outputs": [],
   "source": [
    "global_feature = des\n",
    "\n",
    "from sklearn.preprocessing import MinMaxScaler\n",
    "scaler = MinMaxScaler(feature_range=(0, 1))\n",
    "rescaled_features = scaler.fit_transform(global_feature)\n",
    "\n",
    "#shaping:\n",
    "global_feature.shape\n",
    "\n",
    "surf.descriptionSize()\n",
    "\n",
    "#vector size output\n",
    "print(\"[STATUS] feature vector size {}\".format(np.array(global_feature).shape))\n",
    "\n",
    "#saving the output:\n",
    "a = global_feature\n",
    "np.savetxt('doc.csv', a, delimiter=\",\")\n"
   ]
  }
 ],
 "metadata": {
  "kernelspec": {
   "display_name": "Python 3",
   "language": "python",
   "name": "python3"
  },
  "language_info": {
   "codemirror_mode": {
    "name": "ipython",
    "version": 3
   },
   "file_extension": ".py",
   "mimetype": "text/x-python",
   "name": "python",
   "nbconvert_exporter": "python",
   "pygments_lexer": "ipython3",
   "version": "3.11.3"
  }
 },
 "nbformat": 4,
 "nbformat_minor": 2
}
